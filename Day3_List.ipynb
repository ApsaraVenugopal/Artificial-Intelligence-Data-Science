{
  "nbformat": 4,
  "nbformat_minor": 0,
  "metadata": {
    "colab": {
      "name": "Day3_List.ipynb",
      "provenance": [],
      "collapsed_sections": [],
      "authorship_tag": "ABX9TyPTBGFc7Ed8jmK6HOF0GghS",
      "include_colab_link": true
    },
    "kernelspec": {
      "name": "python3",
      "display_name": "Python 3"
    }
  },
  "cells": [
    {
      "cell_type": "markdown",
      "metadata": {
        "id": "view-in-github",
        "colab_type": "text"
      },
      "source": [
        "<a href=\"https://colab.research.google.com/github/ApsaraVenugopal/Artificial-Intelligence-Data-Science-Sample/blob/master/Day3_List.ipynb\" target=\"_parent\"><img src=\"https://colab.research.google.com/assets/colab-badge.svg\" alt=\"Open In Colab\"/></a>"
      ]
    },
    {
      "cell_type": "code",
      "metadata": {
        "id": "xMvEXf5JhAD_",
        "colab_type": "code",
        "colab": {}
      },
      "source": [
        "lst=[]\n"
      ],
      "execution_count": null,
      "outputs": []
    },
    {
      "cell_type": "code",
      "metadata": {
        "id": "CVZ9LdkOhQlB",
        "colab_type": "code",
        "colab": {
          "base_uri": "https://localhost:8080/",
          "height": 34
        },
        "outputId": "b6c98232-fba1-4053-b3bc-455e0cb6976c"
      },
      "source": [
        "#append operation\n",
        "lst.append(\"calicut\")\n",
        "lst"
      ],
      "execution_count": null,
      "outputs": [
        {
          "output_type": "execute_result",
          "data": {
            "text/plain": [
              "['calicut']"
            ]
          },
          "metadata": {
            "tags": []
          },
          "execution_count": 2
        }
      ]
    },
    {
      "cell_type": "markdown",
      "metadata": {
        "id": "ZATTRA-yh05D",
        "colab_type": "text"
      },
      "source": [
        "lst.append(['kpm',1,2])\n",
        "lst"
      ]
    },
    {
      "cell_type": "code",
      "metadata": {
        "id": "HsggEEX4h-37",
        "colab_type": "code",
        "colab": {
          "base_uri": "https://localhost:8080/",
          "height": 35
        },
        "outputId": "21ab0e64-44ad-42c6-88ab-021d0d1bd2dd"
      },
      "source": [
        "lst[1][0]"
      ],
      "execution_count": null,
      "outputs": [
        {
          "output_type": "execute_result",
          "data": {
            "application/vnd.google.colaboratory.intrinsic+json": {
              "type": "string"
            },
            "text/plain": [
              "'kpm'"
            ]
          },
          "metadata": {
            "tags": []
          },
          "execution_count": 5
        }
      ]
    },
    {
      "cell_type": "code",
      "metadata": {
        "id": "tgPGFnqgiETQ",
        "colab_type": "code",
        "colab": {
          "base_uri": "https://localhost:8080/",
          "height": 34
        },
        "outputId": "669405fc-ed29-4826-f1b8-154da73cf362"
      },
      "source": [
        "lst2=['calicut','malappuram',3,5,6]\n",
        "lst2"
      ],
      "execution_count": null,
      "outputs": [
        {
          "output_type": "execute_result",
          "data": {
            "text/plain": [
              "['calicut', 'malappuram', 3, 5, 6]"
            ]
          },
          "metadata": {
            "tags": []
          },
          "execution_count": 6
        }
      ]
    },
    {
      "cell_type": "code",
      "metadata": {
        "id": "gmaAEA1MiUvO",
        "colab_type": "code",
        "colab": {
          "base_uri": "https://localhost:8080/",
          "height": 34
        },
        "outputId": "c051a296-0c85-4fe4-bbcc-0970cce5aa76"
      },
      "source": [
        "#insert operation\n",
        "lst2.insert(1,44)\n",
        "lst2"
      ],
      "execution_count": null,
      "outputs": [
        {
          "output_type": "execute_result",
          "data": {
            "text/plain": [
              "['calicut', 44, 44, 44, 'malappuram', 3, 5, 6]"
            ]
          },
          "metadata": {
            "tags": []
          },
          "execution_count": 9
        }
      ]
    },
    {
      "cell_type": "code",
      "metadata": {
        "id": "1iK_CbPcioPy",
        "colab_type": "code",
        "colab": {
          "base_uri": "https://localhost:8080/",
          "height": 34
        },
        "outputId": "72801c32-60b3-4820-fddc-6dbd6fc293b2"
      },
      "source": [
        "lst2.remove(44)\n",
        "lst2"
      ],
      "execution_count": null,
      "outputs": [
        {
          "output_type": "execute_result",
          "data": {
            "text/plain": [
              "['calicut', 44, 44, 'malappuram', 3, 5, 6]"
            ]
          },
          "metadata": {
            "tags": []
          },
          "execution_count": 10
        }
      ]
    },
    {
      "cell_type": "code",
      "metadata": {
        "id": "shoXvdaAi20E",
        "colab_type": "code",
        "colab": {
          "base_uri": "https://localhost:8080/",
          "height": 34
        },
        "outputId": "72b0d99e-81e5-4e4a-8b6f-7368c63efa53"
      },
      "source": [
        "lst2.remove(44)\n",
        "lst2\n"
      ],
      "execution_count": null,
      "outputs": [
        {
          "output_type": "execute_result",
          "data": {
            "text/plain": [
              "['calicut', 44, 'malappuram', 3, 5, 6]"
            ]
          },
          "metadata": {
            "tags": []
          },
          "execution_count": 11
        }
      ]
    },
    {
      "cell_type": "code",
      "metadata": {
        "id": "g6UsBnuFi5Fy",
        "colab_type": "code",
        "colab": {
          "base_uri": "https://localhost:8080/",
          "height": 34
        },
        "outputId": "1ba889e9-2f89-4fff-90ca-322748032ee6"
      },
      "source": [
        "lst2.insert(-2,88)\n",
        "lst2"
      ],
      "execution_count": null,
      "outputs": [
        {
          "output_type": "execute_result",
          "data": {
            "text/plain": [
              "['calicut', 44, 'malappuram', 3, 88, 5, 6]"
            ]
          },
          "metadata": {
            "tags": []
          },
          "execution_count": 12
        }
      ]
    },
    {
      "cell_type": "code",
      "metadata": {
        "id": "8Q2gDhUvjL8p",
        "colab_type": "code",
        "colab": {
          "base_uri": "https://localhost:8080/",
          "height": 34
        },
        "outputId": "ad8c8b31-3c78-4971-9137-ca047ef71713"
      },
      "source": [
        "#pop operation\n",
        "lst2.pop()"
      ],
      "execution_count": null,
      "outputs": [
        {
          "output_type": "execute_result",
          "data": {
            "text/plain": [
              "6"
            ]
          },
          "metadata": {
            "tags": []
          },
          "execution_count": 13
        }
      ]
    },
    {
      "cell_type": "code",
      "metadata": {
        "id": "2srCXTbnjcOo",
        "colab_type": "code",
        "colab": {
          "base_uri": "https://localhost:8080/",
          "height": 34
        },
        "outputId": "2096cb62-3372-428e-f214-bff5af7a6cb1"
      },
      "source": [
        "lst2"
      ],
      "execution_count": null,
      "outputs": [
        {
          "output_type": "execute_result",
          "data": {
            "text/plain": [
              "['calicut', 44, 'malappuram', 3, 88, 5]"
            ]
          },
          "metadata": {
            "tags": []
          },
          "execution_count": 14
        }
      ]
    },
    {
      "cell_type": "code",
      "metadata": {
        "id": "gsfYQ_fWjeBG",
        "colab_type": "code",
        "colab": {
          "base_uri": "https://localhost:8080/",
          "height": 34
        },
        "outputId": "00f8dfd7-48ad-484e-8759-edbfde678424"
      },
      "source": [
        "lst2.pop(4)\n",
        "lst2"
      ],
      "execution_count": null,
      "outputs": [
        {
          "output_type": "execute_result",
          "data": {
            "text/plain": [
              "['calicut', 44, 'malappuram', 3]"
            ]
          },
          "metadata": {
            "tags": []
          },
          "execution_count": 16
        }
      ]
    },
    {
      "cell_type": "code",
      "metadata": {
        "id": "Y5PjHs6yj78M",
        "colab_type": "code",
        "colab": {
          "base_uri": "https://localhost:8080/",
          "height": 34
        },
        "outputId": "2ff597dc-c716-4684-b786-25698c20882d"
      },
      "source": [
        "lst3=[34,12,45,7,0,99,8]\n",
        "lst3"
      ],
      "execution_count": null,
      "outputs": [
        {
          "output_type": "execute_result",
          "data": {
            "text/plain": [
              "[34, 12, 45, 7, 0, 99, 8]"
            ]
          },
          "metadata": {
            "tags": []
          },
          "execution_count": 17
        }
      ]
    },
    {
      "cell_type": "code",
      "metadata": {
        "id": "Q22uTmBkkO2c",
        "colab_type": "code",
        "colab": {
          "base_uri": "https://localhost:8080/",
          "height": 34
        },
        "outputId": "5cc56bd2-2bfa-4074-e05a-19706c5ac71e"
      },
      "source": [
        "lst3.sort()\n",
        "lst3"
      ],
      "execution_count": null,
      "outputs": [
        {
          "output_type": "execute_result",
          "data": {
            "text/plain": [
              "[0, 7, 8, 12, 34, 45, 99]"
            ]
          },
          "metadata": {
            "tags": []
          },
          "execution_count": 21
        }
      ]
    },
    {
      "cell_type": "code",
      "metadata": {
        "id": "M_OOE2OFkf7d",
        "colab_type": "code",
        "colab": {
          "base_uri": "https://localhost:8080/",
          "height": 34
        },
        "outputId": "0eecca26-abab-4288-9e45-f8d4c9780d0b"
      },
      "source": [
        "lst3.append(12)\n",
        "lst3\n"
      ],
      "execution_count": null,
      "outputs": [
        {
          "output_type": "execute_result",
          "data": {
            "text/plain": [
              "[0, 7, 8, 12, 34, 45, 99, 12, 12]"
            ]
          },
          "metadata": {
            "tags": []
          },
          "execution_count": 23
        }
      ]
    },
    {
      "cell_type": "code",
      "metadata": {
        "id": "aNqbwKmakvdt",
        "colab_type": "code",
        "colab": {
          "base_uri": "https://localhost:8080/",
          "height": 34
        },
        "outputId": "b2950440-9249-4b09-874a-b9e56ec11052"
      },
      "source": [
        "lst3.remove(12)\n",
        "lst3"
      ],
      "execution_count": null,
      "outputs": [
        {
          "output_type": "execute_result",
          "data": {
            "text/plain": [
              "[0, 7, 8, 34, 45, 99, 12, 12]"
            ]
          },
          "metadata": {
            "tags": []
          },
          "execution_count": 24
        }
      ]
    },
    {
      "cell_type": "code",
      "metadata": {
        "id": "cfZu63f8k3UY",
        "colab_type": "code",
        "colab": {
          "base_uri": "https://localhost:8080/",
          "height": 34
        },
        "outputId": "975357d5-3327-44f9-d3a4-bac4abdb3196"
      },
      "source": [
        "\n",
        "lst3.remove(12)\n",
        "lst3"
      ],
      "execution_count": null,
      "outputs": [
        {
          "output_type": "execute_result",
          "data": {
            "text/plain": [
              "[0, 7, 8, 34, 45, 99, 12]"
            ]
          },
          "metadata": {
            "tags": []
          },
          "execution_count": 25
        }
      ]
    },
    {
      "cell_type": "code",
      "metadata": {
        "id": "oLQXHdHlk5Zi",
        "colab_type": "code",
        "colab": {
          "base_uri": "https://localhost:8080/",
          "height": 35
        },
        "outputId": "baa2a260-ceaf-4539-ad6c-e5a96ab6deed"
      },
      "source": [
        "\"MES\"+\" clg\""
      ],
      "execution_count": null,
      "outputs": [
        {
          "output_type": "execute_result",
          "data": {
            "application/vnd.google.colaboratory.intrinsic+json": {
              "type": "string"
            },
            "text/plain": [
              "'MES clg'"
            ]
          },
          "metadata": {
            "tags": []
          },
          "execution_count": 27
        }
      ]
    },
    {
      "cell_type": "code",
      "metadata": {
        "id": "2BsBAKEBlNAj",
        "colab_type": "code",
        "colab": {
          "base_uri": "https://localhost:8080/",
          "height": 34
        },
        "outputId": "763b8c56-fee3-4b2e-b0c0-e83edd1e6caa"
      },
      "source": [
        "lst2+lst3"
      ],
      "execution_count": null,
      "outputs": [
        {
          "output_type": "execute_result",
          "data": {
            "text/plain": [
              "['calicut', 44, 'malappuram', 3, 0, 7, 8, 34, 45, 99, 12]"
            ]
          },
          "metadata": {
            "tags": []
          },
          "execution_count": 30
        }
      ]
    },
    {
      "cell_type": "code",
      "metadata": {
        "id": "fumHrcDOlU_r",
        "colab_type": "code",
        "colab": {
          "base_uri": "https://localhost:8080/",
          "height": 35
        },
        "outputId": "fdc5055d-239a-462a-aab8-733a9a5be174"
      },
      "source": [
        "mystr=\"INDIA \"\n",
        "mystr*3"
      ],
      "execution_count": null,
      "outputs": [
        {
          "output_type": "execute_result",
          "data": {
            "application/vnd.google.colaboratory.intrinsic+json": {
              "type": "string"
            },
            "text/plain": [
              "'INDIA INDIA INDIA '"
            ]
          },
          "metadata": {
            "tags": []
          },
          "execution_count": 33
        }
      ]
    },
    {
      "cell_type": "code",
      "metadata": {
        "id": "9uWxyfd1lkNc",
        "colab_type": "code",
        "colab": {
          "base_uri": "https://localhost:8080/",
          "height": 34
        },
        "outputId": "c86f4584-3364-4b7a-b081-e447cc8c8846"
      },
      "source": [
        "lst3*3"
      ],
      "execution_count": null,
      "outputs": [
        {
          "output_type": "execute_result",
          "data": {
            "text/plain": [
              "[0, 7, 8, 34, 45, 99, 12, 0, 7, 8, 34, 45, 99, 12, 0, 7, 8, 34, 45, 99, 12]"
            ]
          },
          "metadata": {
            "tags": []
          },
          "execution_count": 35
        }
      ]
    },
    {
      "cell_type": "code",
      "metadata": {
        "id": "IzX0IaVOl7w6",
        "colab_type": "code",
        "colab": {
          "base_uri": "https://localhost:8080/",
          "height": 34
        },
        "outputId": "c8886717-7731-458a-c476-472f388fbc06"
      },
      "source": [
        "# Loops\n",
        "# for and while\n",
        "mystr=\"MES College\"\n",
        "for i in mystr:\n",
        "  print(i,end=\"\")"
      ],
      "execution_count": null,
      "outputs": [
        {
          "output_type": "stream",
          "text": [
            "MES College"
          ],
          "name": "stdout"
        }
      ]
    },
    {
      "cell_type": "code",
      "metadata": {
        "id": "93X8ueY1o7nu",
        "colab_type": "code",
        "colab": {
          "base_uri": "https://localhost:8080/",
          "height": 68
        },
        "outputId": "76c859a9-8e14-47ff-b5d6-c3c2fe9addce"
      },
      "source": [
        "lst5=['malappuram','calicut',3,45,6]\n",
        "for i in lst5:\n",
        "  if(type(i)==int):\n",
        "    print(i)"
      ],
      "execution_count": null,
      "outputs": [
        {
          "output_type": "stream",
          "text": [
            "3\n",
            "45\n",
            "6\n"
          ],
          "name": "stdout"
        }
      ]
    },
    {
      "cell_type": "code",
      "metadata": {
        "id": "kn2vErCZpzL5",
        "colab_type": "code",
        "colab": {
          "base_uri": "https://localhost:8080/",
          "height": 34
        },
        "outputId": "dd0f8ea5-56c2-4899-96e8-3edae8d23604"
      },
      "source": [
        "# print natural numbers upto 20\n",
        "for i in range(1,21):\n",
        "  print(i,end=\",\")"
      ],
      "execution_count": null,
      "outputs": [
        {
          "output_type": "stream",
          "text": [
            "1,2,3,4,5,6,7,8,9,10,11,12,13,14,15,16,17,18,19,20,"
          ],
          "name": "stdout"
        }
      ]
    },
    {
      "cell_type": "code",
      "metadata": {
        "id": "TWP_Gh-wrstU",
        "colab_type": "code",
        "colab": {}
      },
      "source": [
        "# sum of first 20 numbers"
      ],
      "execution_count": null,
      "outputs": []
    },
    {
      "cell_type": "code",
      "metadata": {
        "id": "RsshzZDGqEUB",
        "colab_type": "code",
        "colab": {
          "base_uri": "https://localhost:8080/",
          "height": 34
        },
        "outputId": "8238e760-760e-4bb2-cc88-77d2a2c63c3b"
      },
      "source": [
        "sum=0\n",
        "for i in range(1,21):\n",
        "  sum=sum+i\n",
        "print(sum)"
      ],
      "execution_count": null,
      "outputs": [
        {
          "output_type": "stream",
          "text": [
            "210\n"
          ],
          "name": "stdout"
        }
      ]
    },
    {
      "cell_type": "code",
      "metadata": {
        "id": "MJa_5_2CsgOV",
        "colab_type": "code",
        "colab": {
          "base_uri": "https://localhost:8080/",
          "height": 170
        },
        "outputId": "a3b594be-6870-4aff-e50c-f6934f348172"
      },
      "source": [
        "#while loop\n",
        "#while condition/expression\n",
        "i=1\n",
        "while i<10:\n",
        "  print(i)\n",
        "  i=i+1\n"
      ],
      "execution_count": null,
      "outputs": [
        {
          "output_type": "stream",
          "text": [
            "1\n",
            "2\n",
            "3\n",
            "4\n",
            "5\n",
            "6\n",
            "7\n",
            "8\n",
            "9\n"
          ],
          "name": "stdout"
        }
      ]
    },
    {
      "cell_type": "code",
      "metadata": {
        "id": "Vt0gsHSot7aa",
        "colab_type": "code",
        "colab": {
          "base_uri": "https://localhost:8080/",
          "height": 204
        },
        "outputId": "95939d41-a76f-48aa-cb92-c7c7d2388a1d"
      },
      "source": [
        "# Q1 print multiplication table of a giv\n",
        "num=int(input(\"number: \"))\n",
        "for i in range(1,11):\n",
        "  print(i,\"X\",num,\"=\",i*num)"
      ],
      "execution_count": 91,
      "outputs": [
        {
          "output_type": "stream",
          "text": [
            "number: 3\n",
            "1 X 3 = 3\n",
            "2 X 3 = 6\n",
            "3 X 3 = 9\n",
            "4 X 3 = 12\n",
            "5 X 3 = 15\n",
            "6 X 3 = 18\n",
            "7 X 3 = 21\n",
            "8 X 3 = 24\n",
            "9 X 3 = 27\n",
            "10 X 3 = 30\n"
          ],
          "name": "stdout"
        }
      ]
    },
    {
      "cell_type": "code",
      "metadata": {
        "id": "P1DytasPv1Yc",
        "colab_type": "code",
        "colab": {
          "base_uri": "https://localhost:8080/",
          "height": 170
        },
        "outputId": "707734b0-a4d0-43f5-8653-aa7906f1c43e"
      },
      "source": [
        "#Q2 reverse of list using loop\n",
        "i=len(lst)-1\n",
        "lst=[1,5,22,15,2,9,10,33,40]\n",
        "while i>=0:\n",
        "  print(lst[i])\n",
        "  i=i-1"
      ],
      "execution_count": 111,
      "outputs": [
        {
          "output_type": "stream",
          "text": [
            "40\n",
            "33\n",
            "10\n",
            "9\n",
            "2\n",
            "15\n",
            "22\n",
            "5\n",
            "1\n"
          ],
          "name": "stdout"
        }
      ]
    },
    {
      "cell_type": "code",
      "metadata": {
        "id": "hxAbFTdpyoDv",
        "colab_type": "code",
        "colab": {
          "base_uri": "https://localhost:8080/",
          "height": 170
        },
        "outputId": "ac674ce0-a535-454c-dbfd-f9bab7fdd9ad"
      },
      "source": [
        "lst=[1,5,22,15,2,9,10,33,40]\n",
        "k=len(lst)\n",
        "for i in range(k-1,-1,-1):\n",
        "  print(lst[i])\n"
      ],
      "execution_count": 106,
      "outputs": [
        {
          "output_type": "stream",
          "text": [
            "40\n",
            "33\n",
            "10\n",
            "9\n",
            "2\n",
            "15\n",
            "22\n",
            "5\n",
            "1\n"
          ],
          "name": "stdout"
        }
      ]
    },
    {
      "cell_type": "code",
      "metadata": {
        "id": "j-3QP-Q8woW4",
        "colab_type": "code",
        "colab": {
          "base_uri": "https://localhost:8080/",
          "height": 85
        },
        "outputId": "016aab9d-ae5f-468c-e700-207dfcbeee5c"
      },
      "source": [
        "#Q3 print numbers divisible by 5\n",
        "lst=[1,5,22,15,2,9,10,33,40]\n",
        "for i in lst:\n",
        "  if i%5==0:\n",
        "    print(i)"
      ],
      "execution_count": 88,
      "outputs": [
        {
          "output_type": "stream",
          "text": [
            "5\n",
            "15\n",
            "10\n",
            "40\n"
          ],
          "name": "stdout"
        }
      ]
    },
    {
      "cell_type": "code",
      "metadata": {
        "id": "4VXebupEyclY",
        "colab_type": "code",
        "colab": {
          "base_uri": "https://localhost:8080/",
          "height": 34
        },
        "outputId": "0618599a-3d1b-4cc4-f2ef-923ae4ab0008"
      },
      "source": [
        "lst=[1,5,22,15,2,9,10,33,40]\n",
        "lst.reverse()\n",
        "lst"
      ],
      "execution_count": 92,
      "outputs": [
        {
          "output_type": "execute_result",
          "data": {
            "text/plain": [
              "[40, 33, 10, 9, 2, 15, 22, 5, 1]"
            ]
          },
          "metadata": {
            "tags": []
          },
          "execution_count": 92
        }
      ]
    },
    {
      "cell_type": "code",
      "metadata": {
        "id": "WschrL1v1Fzy",
        "colab_type": "code",
        "colab": {
          "base_uri": "https://localhost:8080/",
          "height": 221
        },
        "outputId": "9a12a4d0-da60-426e-addc-59cec6c98778"
      },
      "source": [
        "#nested loops\n",
        "l1=['anil','raju','asif']\n",
        "l2=['eng','mal','hin']\n",
        "\n",
        "for i in l1:\n",
        "  for j in l2:\n",
        "    print(i+\" talks \"+j)\n",
        "  print(\" \")"
      ],
      "execution_count": 113,
      "outputs": [
        {
          "output_type": "stream",
          "text": [
            "anil talks eng\n",
            "anil talks mal\n",
            "anil talks hin\n",
            " \n",
            "raju talks eng\n",
            "raju talks mal\n",
            "raju talks hin\n",
            " \n",
            "asif talks eng\n",
            "asif talks mal\n",
            "asif talks hin\n",
            " \n"
          ],
          "name": "stdout"
        }
      ]
    }
  ]
}