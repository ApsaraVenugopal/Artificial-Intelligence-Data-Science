{
  "nbformat": 4,
  "nbformat_minor": 0,
  "metadata": {
    "colab": {
      "name": "Day5_dictionary,functions.ipynb",
      "provenance": [],
      "authorship_tag": "ABX9TyNRPHOpI9TJ4F0Omo677vvi",
      "include_colab_link": true
    },
    "kernelspec": {
      "name": "python3",
      "display_name": "Python 3"
    }
  },
  "cells": [
    {
      "cell_type": "markdown",
      "metadata": {
        "id": "view-in-github",
        "colab_type": "text"
      },
      "source": [
        "<a href=\"https://colab.research.google.com/github/ApsaraVenugopal/Artificial-Intelligence-Data-Science/blob/master/Day5_dictionary%2Cfunctions.ipynb\" target=\"_parent\"><img src=\"https://colab.research.google.com/assets/colab-badge.svg\" alt=\"Open In Colab\"/></a>"
      ]
    },
    {
      "cell_type": "markdown",
      "metadata": {
        "id": "JUd-wZ1zsmXv",
        "colab_type": "text"
      },
      "source": [
        "# ***Dictionary*** \n",
        "colection,unordered,changebale,indexing using keys,declaration using {},key-value pair,key should not be duplicated"
      ]
    },
    {
      "cell_type": "code",
      "metadata": {
        "id": "GTHJmqHPspmn",
        "colab_type": "code",
        "colab": {
          "base_uri": "https://localhost:8080/",
          "height": 34
        },
        "outputId": "28b70f21-7cdb-44ee-b530-e99756ed7cae"
      },
      "source": [
        "a={}  #declaration of a null dictionary\n",
        "type(a)"
      ],
      "execution_count": 69,
      "outputs": [
        {
          "output_type": "execute_result",
          "data": {
            "text/plain": [
              "dict"
            ]
          },
          "metadata": {
            "tags": []
          },
          "execution_count": 69
        }
      ]
    },
    {
      "cell_type": "code",
      "metadata": {
        "id": "xflcZjpztVsc",
        "colab_type": "code",
        "colab": {
          "base_uri": "https://localhost:8080/",
          "height": 34
        },
        "outputId": "c44ec2ee-f0ec-4811-f0c4-9eef76424981"
      },
      "source": [
        "s={\"key1\":\"Malappuram\",\"key2\":\"Palakkad\",\"key3\":\"Thrissur\"}\n",
        "s"
      ],
      "execution_count": 70,
      "outputs": [
        {
          "output_type": "execute_result",
          "data": {
            "text/plain": [
              "{'key1': 'Malappuram', 'key2': 'Palakkad', 'key3': 'Thrissur'}"
            ]
          },
          "metadata": {
            "tags": []
          },
          "execution_count": 70
        }
      ]
    },
    {
      "cell_type": "code",
      "metadata": {
        "id": "0t0R1dU1t1zG",
        "colab_type": "code",
        "colab": {
          "base_uri": "https://localhost:8080/",
          "height": 34
        },
        "outputId": "81a94467-4495-47a1-ef11-95af9ee63c99"
      },
      "source": [
        "k={\"key1\":\"Malappuram\",\"key2\":\"Palakkad\",\"key3\":\"Thrissur\",\"key2\":\"TVM\"} # key should not be duplicated\n",
        "k"
      ],
      "execution_count": 71,
      "outputs": [
        {
          "output_type": "execute_result",
          "data": {
            "text/plain": [
              "{'key1': 'Malappuram', 'key2': 'TVM', 'key3': 'Thrissur'}"
            ]
          },
          "metadata": {
            "tags": []
          },
          "execution_count": 71
        }
      ]
    },
    {
      "cell_type": "code",
      "metadata": {
        "id": "VAbEWp7Iun2E",
        "colab_type": "code",
        "colab": {
          "base_uri": "https://localhost:8080/",
          "height": 34
        },
        "outputId": "bd57140b-da58-42cc-ea1d-f27aa8285332"
      },
      "source": [
        "list1=[1,2,4]\n",
        "list1[2]"
      ],
      "execution_count": 72,
      "outputs": [
        {
          "output_type": "execute_result",
          "data": {
            "text/plain": [
              "4"
            ]
          },
          "metadata": {
            "tags": []
          },
          "execution_count": 72
        }
      ]
    },
    {
      "cell_type": "code",
      "metadata": {
        "id": "l7yyK0DuuvnT",
        "colab_type": "code",
        "colab": {
          "base_uri": "https://localhost:8080/",
          "height": 34
        },
        "outputId": "4df797d9-e2e1-4572-a6e0-2916697ba6dd"
      },
      "source": [
        "k"
      ],
      "execution_count": 73,
      "outputs": [
        {
          "output_type": "execute_result",
          "data": {
            "text/plain": [
              "{'key1': 'Malappuram', 'key2': 'TVM', 'key3': 'Thrissur'}"
            ]
          },
          "metadata": {
            "tags": []
          },
          "execution_count": 73
        }
      ]
    },
    {
      "cell_type": "code",
      "metadata": {
        "id": "ENDUL5jVuy1D",
        "colab_type": "code",
        "colab": {
          "base_uri": "https://localhost:8080/",
          "height": 163
        },
        "outputId": "e08febca-dfe7-4ab0-f1a5-79210a491d7a"
      },
      "source": [
        "k[0] # we can't access values using index in dictionary "
      ],
      "execution_count": 74,
      "outputs": [
        {
          "output_type": "error",
          "ename": "KeyError",
          "evalue": "ignored",
          "traceback": [
            "\u001b[0;31m---------------------------------------------------------------------------\u001b[0m",
            "\u001b[0;31mKeyError\u001b[0m                                  Traceback (most recent call last)",
            "\u001b[0;32m<ipython-input-74-b4ab567bcd7d>\u001b[0m in \u001b[0;36m<module>\u001b[0;34m()\u001b[0m\n\u001b[0;32m----> 1\u001b[0;31m \u001b[0mk\u001b[0m\u001b[0;34m[\u001b[0m\u001b[0;36m0\u001b[0m\u001b[0;34m]\u001b[0m\u001b[0;34m\u001b[0m\u001b[0;34m\u001b[0m\u001b[0m\n\u001b[0m",
            "\u001b[0;31mKeyError\u001b[0m: 0"
          ]
        }
      ]
    },
    {
      "cell_type": "code",
      "metadata": {
        "id": "XMb-r1nKu59Y",
        "colab_type": "code",
        "colab": {}
      },
      "source": [
        "k['key3']"
      ],
      "execution_count": null,
      "outputs": []
    },
    {
      "cell_type": "code",
      "metadata": {
        "id": "yOXwUL_ru8qS",
        "colab_type": "code",
        "colab": {}
      },
      "source": [
        "r={0:\"Malappuram\",1:'TVM','key1':\"kottaym\"}\n",
        "r[0]"
      ],
      "execution_count": null,
      "outputs": []
    },
    {
      "cell_type": "code",
      "metadata": {
        "id": "77F2kGg0vNg4",
        "colab_type": "code",
        "colab": {}
      },
      "source": [
        "v={0:\"Malappuram\",1:'TVM','t':[3,6,'kpm'],'key1':\"kottaym\"}\n",
        "v['t']\n",
        "v"
      ],
      "execution_count": null,
      "outputs": []
    },
    {
      "cell_type": "code",
      "metadata": {
        "id": "JEmfem_AvyjJ",
        "colab_type": "code",
        "colab": {}
      },
      "source": [
        "w={0:1,1:\"ABC\",2:\"Edappal\",'d':{'a':'XYZ','b':'def'}} # nested dictionary\n",
        "w"
      ],
      "execution_count": null,
      "outputs": []
    },
    {
      "cell_type": "code",
      "metadata": {
        "id": "8PdBc1qawJEc",
        "colab_type": "code",
        "colab": {}
      },
      "source": [
        "w['d']['b'] # accessing values inside a nested dictionary"
      ],
      "execution_count": null,
      "outputs": []
    },
    {
      "cell_type": "code",
      "metadata": {
        "id": "jalgFuDawY3A",
        "colab_type": "code",
        "colab": {}
      },
      "source": [
        "v={0:\"Malappuram\",1:'TVM','t':[3,6,'kpm'],'key1':\"kottaym\"}\n",
        "v\n",
        "for i in v:\n",
        "  print(v[i])  # to print values line by line"
      ],
      "execution_count": null,
      "outputs": []
    },
    {
      "cell_type": "code",
      "metadata": {
        "id": "yQK9t7SfwqoJ",
        "colab_type": "code",
        "colab": {}
      },
      "source": [
        "for i in v:\n",
        "  print(i+\"\"+v[i])"
      ],
      "execution_count": null,
      "outputs": []
    },
    {
      "cell_type": "code",
      "metadata": {
        "id": "zzS-tTKCw-PD",
        "colab_type": "code",
        "colab": {}
      },
      "source": [
        "for i in v: # solution for th above error\n",
        "  print(str(i)+\" \"+str(v[i]))"
      ],
      "execution_count": null,
      "outputs": []
    },
    {
      "cell_type": "code",
      "metadata": {
        "id": "0J-1918uxJfU",
        "colab_type": "code",
        "colab": {}
      },
      "source": [
        "# to view keys\n",
        "v.keys()"
      ],
      "execution_count": null,
      "outputs": []
    },
    {
      "cell_type": "code",
      "metadata": {
        "id": "_MrLQbhcxOmJ",
        "colab_type": "code",
        "colab": {}
      },
      "source": [
        "# to view values\n",
        "v.values()"
      ],
      "execution_count": null,
      "outputs": []
    },
    {
      "cell_type": "code",
      "metadata": {
        "id": "Uum72hEexSfh",
        "colab_type": "code",
        "colab": {}
      },
      "source": [
        "# to add an item to dictionary\n",
        "v['key2']=\"Kannur\"\n",
        "print(v)"
      ],
      "execution_count": null,
      "outputs": []
    },
    {
      "cell_type": "code",
      "metadata": {
        "id": "InslMRNKxrnv",
        "colab_type": "code",
        "colab": {}
      },
      "source": [
        "# Question: To printb a dictionary where the keys are numbers between 1 and 15 both included and the values are square of keys\n",
        "dict1={}\n",
        "for i in range(1,16):\n",
        "  dict1[i]=i*i\n",
        "  i=i+1\n",
        "print(dict1)\n"
      ],
      "execution_count": null,
      "outputs": []
    },
    {
      "cell_type": "code",
      "metadata": {
        "id": "3FR9OT8v0HcC",
        "colab_type": "code",
        "colab": {}
      },
      "source": [
        "k for k in range(1,16)"
      ],
      "execution_count": null,
      "outputs": []
    },
    {
      "cell_type": "code",
      "metadata": {
        "id": "mIWUL6TI0XBL",
        "colab_type": "code",
        "colab": {}
      },
      "source": [
        "m={k:k for k in range(1,16)}\n",
        "print(m)"
      ],
      "execution_count": null,
      "outputs": []
    },
    {
      "cell_type": "code",
      "metadata": {
        "id": "evguNR010qhB",
        "colab_type": "code",
        "colab": {}
      },
      "source": [
        "m={k:k*k for k in range(1,16)}\n",
        "print(m)"
      ],
      "execution_count": null,
      "outputs": []
    },
    {
      "cell_type": "code",
      "metadata": {
        "id": "cKURWUKx0vRO",
        "colab_type": "code",
        "colab": {}
      },
      "source": [
        "lst2=['Anil','Shaheen','Raju','Babu']\n",
        "f={}\n",
        "for i in lst2:\n",
        "  f[i[0]]=i\n",
        "print(f)\n"
      ],
      "execution_count": null,
      "outputs": []
    },
    {
      "cell_type": "code",
      "metadata": {
        "id": "wcXIvoJR1iKW",
        "colab_type": "code",
        "colab": {}
      },
      "source": [
        "lst2=['Anil','Shaheen','Raju','Babu'] \n",
        "j={}\n",
        "{i[0]:i for i in lst2}\n"
      ],
      "execution_count": null,
      "outputs": []
    },
    {
      "cell_type": "code",
      "metadata": {
        "id": "-1qSTauq3SOl",
        "colab_type": "code",
        "colab": {}
      },
      "source": [
        "dict1={'ten':10,'Twenty':20,'Thirty':30}\n",
        "dict2={'Thirty':50,'Fourty':40,'fifty':50}\n",
        "dict3=dict1.copy() # copy all the elements in the dict1 to dict3\n",
        "dict3"
      ],
      "execution_count": null,
      "outputs": []
    },
    {
      "cell_type": "code",
      "metadata": {
        "id": "II7POGRE4CnJ",
        "colab_type": "code",
        "colab": {}
      },
      "source": [
        "dict3.update(dict2)\n",
        "dict3"
      ],
      "execution_count": null,
      "outputs": []
    },
    {
      "cell_type": "markdown",
      "metadata": {
        "id": "3GcVd6yA4JlC",
        "colab_type": "text"
      },
      "source": [
        "# ***Functions***\n",
        "\n",
        "def funtionname(arg1,arg2,.....,argn):\n",
        "  statement1\n",
        "  statement2\n",
        "  etc"
      ]
    },
    {
      "cell_type": "code",
      "metadata": {
        "id": "6QcpBmWE4NmQ",
        "colab_type": "code",
        "colab": {
          "base_uri": "https://localhost:8080/",
          "height": 34
        },
        "outputId": "c8c82d00-e6a4-4afc-9c9a-25365f4fee0a"
      },
      "source": [
        "def sayHello(): # without argument\n",
        "  print(\"Hello\")\n",
        "\n",
        "sayHello()"
      ],
      "execution_count": 75,
      "outputs": [
        {
          "output_type": "stream",
          "text": [
            "Hello\n"
          ],
          "name": "stdout"
        }
      ]
    },
    {
      "cell_type": "code",
      "metadata": {
        "id": "PhnAUWmt5_VH",
        "colab_type": "code",
        "colab": {
          "base_uri": "https://localhost:8080/",
          "height": 34
        },
        "outputId": "02bd018d-3fa5-4463-896c-85b5ad98711f"
      },
      "source": [
        "def sayHello(s): # with argument\n",
        "  print(\"Hello\"+s)\n",
        "\n",
        "sayHello(\" Dubai\")"
      ],
      "execution_count": 77,
      "outputs": [
        {
          "output_type": "stream",
          "text": [
            "Hello Dubai\n"
          ],
          "name": "stdout"
        }
      ]
    },
    {
      "cell_type": "code",
      "metadata": {
        "id": "Q1dtEFEV6kAo",
        "colab_type": "code",
        "colab": {
          "base_uri": "https://localhost:8080/",
          "height": 34
        },
        "outputId": "e5901b2a-8192-40bc-9813-43f355dd4ecf"
      },
      "source": [
        "def sayHello(s): # with argument and with return value\n",
        "  p=\"Hello\"+s\n",
        "  return p\n",
        "k=sayHello(\" Dubai\")\n",
        "print(k)"
      ],
      "execution_count": 79,
      "outputs": [
        {
          "output_type": "stream",
          "text": [
            "Hello Dubai\n"
          ],
          "name": "stdout"
        }
      ]
    },
    {
      "cell_type": "code",
      "metadata": {
        "id": "DZGZy2rZ7CW4",
        "colab_type": "code",
        "colab": {
          "base_uri": "https://localhost:8080/",
          "height": 34
        },
        "outputId": "3c2c6cea-0841-4c48-e6c8-5190ec42d45f"
      },
      "source": [
        "def sayhello2(r):\n",
        "  s=\"Hello \"+r\n",
        "  return s\n",
        "k=sayhello2(\"MES\")\n",
        "print(k)"
      ],
      "execution_count": 81,
      "outputs": [
        {
          "output_type": "stream",
          "text": [
            "Hello MES\n"
          ],
          "name": "stdout"
        }
      ]
    },
    {
      "cell_type": "code",
      "metadata": {
        "id": "KS7XITUx7Sec",
        "colab_type": "code",
        "colab": {
          "base_uri": "https://localhost:8080/",
          "height": 34
        },
        "outputId": "f36b5542-ae80-41c3-9133-5a86c075df91"
      },
      "source": [
        "def testfn1():\n",
        "  return 1,4,6,0\n",
        "m=testfn1()\n",
        "print(m)"
      ],
      "execution_count": 83,
      "outputs": [
        {
          "output_type": "stream",
          "text": [
            "(1, 4, 6, 0)\n"
          ],
          "name": "stdout"
        }
      ]
    },
    {
      "cell_type": "code",
      "metadata": {
        "id": "n-7prbnp7x9l",
        "colab_type": "code",
        "colab": {
          "base_uri": "https://localhost:8080/",
          "height": 34
        },
        "outputId": "c0905d9b-6327-4ab8-e807-e9803ff13172"
      },
      "source": [
        "# place holder concept\n",
        "def testfn1():\n",
        "  return 1,4,6,0\n",
        "m,_,_,_=testfn1()  # if we want the first value\n",
        "print(m)"
      ],
      "execution_count": 84,
      "outputs": [
        {
          "output_type": "stream",
          "text": [
            "1\n"
          ],
          "name": "stdout"
        }
      ]
    },
    {
      "cell_type": "code",
      "metadata": {
        "id": "2-UsSTNK78qN",
        "colab_type": "code",
        "colab": {
          "base_uri": "https://localhost:8080/",
          "height": 34
        },
        "outputId": "82d14a3c-0745-45d3-82cf-db114f733e90"
      },
      "source": [
        "# place holder concept\n",
        "def testfn1():\n",
        "  return 1,4,6,0\n",
        "_,_,m,_=testfn1()  # if we want the third value\n",
        "print(m)"
      ],
      "execution_count": 85,
      "outputs": [
        {
          "output_type": "stream",
          "text": [
            "6\n"
          ],
          "name": "stdout"
        }
      ]
    },
    {
      "cell_type": "code",
      "metadata": {
        "id": "fzxq-Qfx8LyR",
        "colab_type": "code",
        "colab": {
          "base_uri": "https://localhost:8080/",
          "height": 34
        },
        "outputId": "fa2e6ecd-6fe3-42bb-c75f-378fdf26660b"
      },
      "source": [
        "def addNumber(num1,num2):\n",
        "  res=num1+num2\n",
        "  return res\n",
        "\n",
        "c=addNumber(3,4)\n",
        "print(c)\n",
        "\n"
      ],
      "execution_count": 88,
      "outputs": [
        {
          "output_type": "stream",
          "text": [
            "7\n"
          ],
          "name": "stdout"
        }
      ]
    },
    {
      "cell_type": "code",
      "metadata": {
        "id": "Jmz2p5SI8t9j",
        "colab_type": "code",
        "colab": {
          "base_uri": "https://localhost:8080/",
          "height": 180
        },
        "outputId": "c30cecc4-ed23-47e9-a289-0c2c6108dbbc"
      },
      "source": [
        "d=addNumber('one'+4)\n",
        "print(d)"
      ],
      "execution_count": 89,
      "outputs": [
        {
          "output_type": "error",
          "ename": "TypeError",
          "evalue": "ignored",
          "traceback": [
            "\u001b[0;31m---------------------------------------------------------------------------\u001b[0m",
            "\u001b[0;31mTypeError\u001b[0m                                 Traceback (most recent call last)",
            "\u001b[0;32m<ipython-input-89-2f23f5d1fe15>\u001b[0m in \u001b[0;36m<module>\u001b[0;34m()\u001b[0m\n\u001b[0;32m----> 1\u001b[0;31m \u001b[0md\u001b[0m\u001b[0;34m=\u001b[0m\u001b[0maddNumber\u001b[0m\u001b[0;34m(\u001b[0m\u001b[0;34m'one'\u001b[0m\u001b[0;34m+\u001b[0m\u001b[0;36m4\u001b[0m\u001b[0;34m)\u001b[0m\u001b[0;34m\u001b[0m\u001b[0;34m\u001b[0m\u001b[0m\n\u001b[0m\u001b[1;32m      2\u001b[0m \u001b[0mprint\u001b[0m\u001b[0;34m(\u001b[0m\u001b[0md\u001b[0m\u001b[0;34m)\u001b[0m\u001b[0;34m\u001b[0m\u001b[0;34m\u001b[0m\u001b[0m\n",
            "\u001b[0;31mTypeError\u001b[0m: must be str, not int"
          ]
        }
      ]
    },
    {
      "cell_type": "code",
      "metadata": {
        "id": "DeJWqWHe8wyL",
        "colab_type": "code",
        "colab": {
          "base_uri": "https://localhost:8080/",
          "height": 51
        },
        "outputId": "b9609cdd-51fa-4e11-bc01-5b357b9ec8c8"
      },
      "source": [
        "def addNumber(num1,num2=1): # default argument\n",
        "  res=num1+num2\n",
        "  return res\n",
        "\n",
        "c=addNumber(3,5)\n",
        "print(c)\n",
        "\n",
        "d=addNumber(3)\n",
        "print(d)\n"
      ],
      "execution_count": 98,
      "outputs": [
        {
          "output_type": "stream",
          "text": [
            "8\n",
            "4\n"
          ],
          "name": "stdout"
        }
      ]
    },
    {
      "cell_type": "code",
      "metadata": {
        "id": "tqsbE6C79zvA",
        "colab_type": "code",
        "colab": {
          "base_uri": "https://localhost:8080/",
          "height": 34
        },
        "outputId": "464dbfa7-51ca-4d6c-ec2b-a9e1db29d6d7"
      },
      "source": [
        "# Question : a,b,c --- max\n",
        "def maxOfThree(num1,num2,num3):\n",
        "  maxValue=max(num1,num2,num3)\n",
        "  return maxValue\n",
        "\n",
        "result=maxOfThree(8,1,5)\n",
        "print(result)"
      ],
      "execution_count": 100,
      "outputs": [
        {
          "output_type": "stream",
          "text": [
            "8\n"
          ],
          "name": "stdout"
        }
      ]
    },
    {
      "cell_type": "code",
      "metadata": {
        "id": "KTNbDpuL-3ud",
        "colab_type": "code",
        "colab": {
          "base_uri": "https://localhost:8080/",
          "height": 34
        },
        "outputId": "6f12f161-e014-4693-9653-bedf8cc7e939"
      },
      "source": [
        "# Question : a,b,c --- max\n",
        "def maxOfThree(num1,num2,num3):\n",
        "  if num1>num2 and num1>num3:\n",
        "    return num1\n",
        "  else num3>num2:\n",
        "    return num3\n",
        "\n",
        "result=maxOfThree(8,1,5)\n",
        "print(result)"
      ],
      "execution_count": 102,
      "outputs": [
        {
          "output_type": "stream",
          "text": [
            "8\n"
          ],
          "name": "stdout"
        }
      ]
    },
    {
      "cell_type": "code",
      "metadata": {
        "id": "6I_p1RF1_oFd",
        "colab_type": "code",
        "colab": {
          "base_uri": "https://localhost:8080/",
          "height": 34
        },
        "outputId": "dd03bcd7-12b3-4052-d8d0-004569a29c9a"
      },
      "source": [
        "def maxOfTwo(a,b):\n",
        "  if a>b:\n",
        "    return a\n",
        "  else:\n",
        "    return b\n",
        "\n",
        "def maxOfThree(x,y,z):\n",
        "  max1=maxOfTwo(x,y)\n",
        "  max2=maxOfTwo(max1,z)\n",
        "  return max2\n",
        "\n",
        "maxOfThree(3,5,0)"
      ],
      "execution_count": 103,
      "outputs": [
        {
          "output_type": "execute_result",
          "data": {
            "text/plain": [
              "5"
            ]
          },
          "metadata": {
            "tags": []
          },
          "execution_count": 103
        }
      ]
    }
  ]
}